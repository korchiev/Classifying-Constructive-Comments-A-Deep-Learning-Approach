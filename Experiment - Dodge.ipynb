{
 "cells": [
  {
   "cell_type": "code",
   "execution_count": 2,
   "metadata": {},
   "outputs": [],
   "source": [
    "import sys\n",
    "sys.path.append(\".\")\n",
    "\n",
    "from raise_utils.hyperparams import DODGE\n",
    "# We have to define the Wrapper Class for each model and import it as follows\n",
    "from RandomForest import RandomForest\n",
    "from NaiveBayes import NaiveBayes\n",
    "from BiLSTM import BILSTM\n",
    "\n",
    "from raise_utils.data import DataLoader, Data\n",
    "\n",
    "\n",
    "import numpy as np\n",
    "import os\n",
    "os.environ[\"TF_FORCE_GPU_ALLOW_GROWTH\"]=\"true\"\n",
    "import pandas as pd\n",
    "from sklearn.feature_extraction.text import TfidfVectorizer\n",
    "import re\n",
    "from bs4 import BeautifulSoup\n",
    "import string\n",
    "from gensim.models import Word2Vec\n",
    "from sklearn.model_selection import train_test_split\n",
    "from sklearn.preprocessing import LabelEncoder\n",
    "from sklearn.ensemble import RandomForestClassifier\n",
    "from sklearn.metrics import classification_report\n",
    "from keras.preprocessing import sequence, text\n",
    "from keras.models import Sequential\n",
    "from keras.layers import Dense, Dropout, Embedding, LSTM, Bidirectional, BatchNormalization, Activation\n",
    "from sklearn.metrics import confusion_matrix\n",
    "from sklearn.metrics import classification_report\n",
    "from keras import metrics\n",
    "import matplotlib.pyplot as plt\n",
    "from collections import Counter\n",
    "from imblearn.over_sampling import SMOTE\n",
    "from imblearn.under_sampling import RandomUnderSampler\n",
    "from sklearn.feature_extraction.text import TfidfVectorizer"
   ]
  },
  {
   "cell_type": "markdown",
   "metadata": {},
   "source": [
    "## Process the data as needed"
   ]
  },
  {
   "cell_type": "code",
   "execution_count": 3,
   "metadata": {},
   "outputs": [],
   "source": [
    "df = pd.read_csv('C3_anonymized.csv', delimiter=',', usecols=['comment_text','constructive_binary'])"
   ]
  },
  {
   "cell_type": "code",
   "execution_count": 4,
   "metadata": {},
   "outputs": [],
   "source": [
    "def text_clean(review):\n",
    "    rv_text = BeautifulSoup(review, 'html.parser').get_text()\n",
    "    rv_text = re.sub('[^a-zA-Z]', ' ', rv_text)\n",
    "    rv_text = rv_text.strip()\n",
    "    return rv_text"
   ]
  },
  {
   "cell_type": "code",
   "execution_count": 5,
   "metadata": {},
   "outputs": [],
   "source": [
    "clean_comments = df.apply(lambda x: text_clean(x['comment_text']),axis=1)"
   ]
  },
  {
   "cell_type": "code",
   "execution_count": 6,
   "metadata": {},
   "outputs": [],
   "source": [
    "tk = text.Tokenizer(num_words=20000)\n",
    "tk.fit_on_texts(clean_comments.tolist())\n",
    "X = tk.texts_to_sequences(clean_comments)\n",
    "allX = sequence.pad_sequences(X, maxlen=150)\n",
    "ally = LabelEncoder().fit_transform(df['constructive_binary'])\n",
    "word_index = tk.word_index"
   ]
  },
  {
   "cell_type": "code",
   "execution_count": 7,
   "metadata": {},
   "outputs": [
    {
     "name": "stdout",
     "output_type": "stream",
     "text": [
      "Class=1, n=6516 (54.300%)\n",
      "Class=0, n=5484 (45.700%)\n"
     ]
    },
    {
     "data": {
      "image/png": "[encoded data removed]",
      "text/plain": [
       "<Figure size 432x288 with 1 Axes>"
      ]
     },
     "metadata": {
      "needs_background": "light"
     },
     "output_type": "display_data"
    }
   ],
   "source": [
    "counter = Counter(ally)\n",
    "\n",
    "for k,v in counter.items():\n",
    "\tper = v / len(ally) * 100\n",
    "\tprint('Class=%d, n=%d (%.3f%%)' % (k, v, per))\n",
    "\n",
    "plt.bar(counter.keys(), counter.values())\n",
    "plt.show()"
   ]
  },
  {
   "cell_type": "code",
   "execution_count": 8,
   "metadata": {},
   "outputs": [
    {
     "name": "stdout",
     "output_type": "stream",
     "text": [
      "Class=0, n=6000 (50.000%)\n",
      "Class=1, n=6000 (50.000%)\n"
     ]
    },
    {
     "data": {
      "image/png": "[encoded data removed]",
      "text/plain": [
       "<Figure size 432x288 with 1 Axes>"
      ]
     },
     "metadata": {
      "needs_background": "light"
     },
     "output_type": "display_data"
    }
   ],
   "source": [
    "oversample = SMOTE(sampling_strategy={0:6000})\n",
    "#oversample = SMOTE()\n",
    "allX, ally = oversample.fit_resample(allX, ally)\n",
    "\n",
    "under = RandomUnderSampler({1:6000})\n",
    "allX, ally = under.fit_resample(allX, ally)\n",
    "# summarize distribution\n",
    "counter = Counter(ally)\n",
    "#print(counter)\n",
    "for k,v in counter.items():\n",
    "\tper = v / len(ally) * 100\n",
    "\tprint('Class=%d, n=%d (%.3f%%)' % (k, v, per))\n",
    "# plot the distribution\n",
    "plt.bar(counter.keys(), counter.values())\n",
    "plt.show()"
   ]
  },
  {
   "cell_type": "code",
   "execution_count": 9,
   "metadata": {},
   "outputs": [],
   "source": [
    "glv_embed_dict = {}\n",
    "glv = open('../glove.6B/glove.6B.300d.txt',encoding=\"utf8\")\n",
    "for line in glv:\n",
    "    v = line.split()\n",
    "    word = v[0]\n",
    "    try:\n",
    "        vector = np.asarray(v[1:], dtype='float32')\n",
    "    except:\n",
    "        pass\n",
    "    glv_embed_dict[word] = vector\n",
    "glv.close()"
   ]
  },
  {
   "cell_type": "code",
   "execution_count": 10,
   "metadata": {},
   "outputs": [],
   "source": [
    "word_embd = np.zeros((len(word_index) + 1, 300))\n",
    "for word, i in word_index.items():\n",
    "    embed_vector = glv_embed_dict.get(word)\n",
    "    if embed_vector is not None:\n",
    "        word_embd[i] = embed_vector"
   ]
  },
  {
   "cell_type": "code",
   "execution_count": 11,
   "metadata": {},
   "outputs": [],
   "source": [
    "X_train, X_test, y_train, y_test = train_test_split(allX, ally,stratify=ally,test_size=0.25)\n",
    "\n",
    "y_train = LabelEncoder().fit_transform(y_train)\n",
    "y_test = LabelEncoder().fit_transform(y_test)\n",
    "\n",
    "X_train = pd.DataFrame(X_train)\n",
    "X_test = pd.DataFrame(X_test)\n",
    "y_train = pd.Series(y_train)\n",
    "y_test = pd.Series(y_test)"
   ]
  },
  {
   "cell_type": "markdown",
   "metadata": {},
   "source": [
    "## Load the Data using raiseUtils Method."
   ]
  },
  {
   "cell_type": "code",
   "execution_count": 12,
   "metadata": {
    "scrolled": true
   },
   "outputs": [],
   "source": [
    "dt = Data(X_train, X_test, y_train, y_test)"
   ]
  },
  {
   "cell_type": "markdown",
   "metadata": {},
   "source": [
    "## Generate all Models to be used in Dodge"
   ]
  },
  {
   "cell_type": "code",
   "execution_count": 13,
   "metadata": {},
   "outputs": [],
   "source": [
    "learners = [\n",
    "    NaiveBayes(random=True, name=\"nv1\"),\n",
    "    NaiveBayes(random=True, name=\"nv2\"),\n",
    "    NaiveBayes(random=True, name=\"nv3\"),\n",
    "    NaiveBayes(random=True, name=\"nv4\"),\n",
    "    NaiveBayes(random=True, name=\"nv5\"),\n",
    "    NaiveBayes(random=True, name=\"nv6\"),\n",
    "    NaiveBayes(random=True, name=\"nv7\"),\n",
    "    NaiveBayes(random=True, name=\"nv8\"),\n",
    "    NaiveBayes(random=True, name=\"nv9\"),\n",
    "    NaiveBayes(random=True, name=\"nv10\")\n",
    "    #BILSTM(max_words=len(word_index)+1, embedding=300, n_layers=1, input_lenght = dt.x_train.shape[1], random=True, name=\"0\"),\n",
    "    #BILSTM(max_words=len(word_index)+1, embedding=300, n_layers=1, input_lenght = dt.x_train.shape[1], random=True, name=\"1\"),\n",
    "    #BILSTM(max_words=len(word_index)+1, embedding=300, n_layers=1, input_lenght = dt.x_train.shape[1], random=True, name=\"2\"),\n",
    "    #BILSTM(max_words=len(word_index)+1, embedding=300, n_layers=1, input_lenght = dt.x_train.shape[1], random=True, name=\"3\"),\n",
    "    #BILSTM(max_words=len(word_index)+1, embedding=300, n_layers=1, input_lenght = dt.x_train.shape[1], random=True, name=\"4\"),\n",
    "    #BILSTM(max_words=len(word_index)+1, embedding=300, n_layers=1, input_lenght = dt.x_train.shape[1], random=True, name=\"5\"),\n",
    "    #BILSTM(max_words=len(word_index)+1, embedding=300, n_layers=1, input_lenght = dt.x_train.shape[1], random=True, name=\"6\"),\n",
    "    #BILSTM(max_words=len(word_index)+1, embedding=300, n_layers=1, input_lenght = dt.x_train.shape[1], random=True, name=\"7\"),\n",
    "    #BILSTM(max_words=len(word_index)+1, embedding=300, n_layers=1, input_lenght = dt.x_train.shape[1], random=True, name=\"8\"),\n",
    "    #BILSTM(max_words=len(word_index)+1, embedding=300, n_layers=1, input_lenght = dt.x_train.shape[1], random=True, name=\"9\")\n",
    "            ]"
   ]
  },
  {
   "cell_type": "markdown",
   "metadata": {},
   "source": [
    "## Sample Dodge Code."
   ]
  },
  {
   "cell_type": "code",
   "execution_count": 14,
   "metadata": {},
   "outputs": [],
   "source": [
    "config = {\n",
    "        \"n_runs\": 3,\n",
    "        \"transforms\": [\"standardize\"],\n",
    "        \"n_iters\": int(len(learners)/3+1),\n",
    "        \"metrics\": [\"f1\", \"pd\", \"pf\", \"auc\", \"prec\"],\n",
    "        \"random\": True,\n",
    "        \"learners\": learners,\n",
    "        \"log_path\": \"\",\n",
    "        \"data\": [dt],\n",
    "        \"name\": \"log/camel-pd-pf\"\n",
    "    }\n",
    "\n",
    "dodge = DODGE(config)\n"
   ]
  },
  {
   "cell_type": "markdown",
   "metadata": {},
   "source": [
    "## Run the dodge optimization algorithm"
   ]
  },
  {
   "cell_type": "code",
   "execution_count": 15,
   "metadata": {
    "scrolled": false
   },
   "outputs": [
    {
     "name": "stdout",
     "output_type": "stream",
     "text": [
      "{'hooks': None, 'learner': GaussianNB(var_smoothing=1e-08), 'name': 'nv1', 'random': True, 'random_map': {'var_smoothing': [1e-10, 1e-09, 1e-08]}, 'x_test': None, 'x_train': None, 'y_test': None, 'y_train': None}\n",
      "{'hooks': None, 'learner': GaussianNB(), 'name': 'nv2', 'random': True, 'random_map': {'var_smoothing': [1e-10, 1e-09, 1e-08]}, 'x_test': None, 'x_train': None, 'y_test': None, 'y_train': None}\n",
      "{'hooks': None, 'learner': GaussianNB(), 'name': 'nv3', 'random': True, 'random_map': {'var_smoothing': [1e-10, 1e-09, 1e-08]}, 'x_test': None, 'x_train': None, 'y_test': None, 'y_train': None}\n",
      "{'hooks': None, 'learner': GaussianNB(var_smoothing=1e-08), 'name': 'nv4', 'random': True, 'random_map': {'var_smoothing': [1e-10, 1e-09, 1e-08]}, 'x_test': None, 'x_train': None, 'y_test': None, 'y_train': None}\n",
      "{'hooks': None, 'learner': GaussianNB(var_smoothing=1e-08), 'name': 'nv5', 'random': True, 'random_map': {'var_smoothing': [1e-10, 1e-09, 1e-08]}, 'x_test': None, 'x_train': None, 'y_test': None, 'y_train': None}\n",
      "{'hooks': None, 'learner': GaussianNB(var_smoothing=1e-08), 'name': 'nv6', 'random': True, 'random_map': {'var_smoothing': [1e-10, 1e-09, 1e-08]}, 'x_test': None, 'x_train': None, 'y_test': None, 'y_train': None}\n",
      "{'hooks': None, 'learner': GaussianNB(var_smoothing=1e-08), 'name': 'nv7', 'random': True, 'random_map': {'var_smoothing': [1e-10, 1e-09, 1e-08]}, 'x_test': None, 'x_train': None, 'y_test': None, 'y_train': None}\n",
      "{'hooks': None, 'learner': GaussianNB(), 'name': 'nv8', 'random': True, 'random_map': {'var_smoothing': [1e-10, 1e-09, 1e-08]}, 'x_test': None, 'x_train': None, 'y_test': None, 'y_train': None}\n",
      "{'hooks': None, 'learner': GaussianNB(), 'name': 'nv9', 'random': True, 'random_map': {'var_smoothing': [1e-10, 1e-09, 1e-08]}, 'x_test': None, 'x_train': None, 'y_test': None, 'y_train': None}\n",
      "{'hooks': None, 'learner': GaussianNB(var_smoothing=1e-10), 'name': 'nv10', 'random': True, 'random_map': {'var_smoothing': [1e-10, 1e-09, 1e-08]}, 'x_test': None, 'x_train': None, 'y_test': None, 'y_train': None}\n",
      "Run # 0\n",
      "======\n",
      "setting: standardizeO|nv1\n",
      "iter 0 : [0.8469079939668175, 0.7486666666666667, 0.019333333333333334, 0.8646666666666668, 0.9748263888888888]\n",
      "setting: standardizeV|nv8\n",
      "iter 1 : [0.8469079939668175, 0.7486666666666667, 0.019333333333333334, 0.8646666666666668, 0.9748263888888888]\n",
      "setting: standardizeQ|nv4\n",
      "iter 2 : [0.8469079939668175, 0.7486666666666667, 0.019333333333333334, 0.8646666666666668, 0.9748263888888888]\n",
      "setting: standardizep|nv10\n",
      "iter 3 : [0.8469079939668175, 0.7486666666666667, 0.019333333333333334, 0.8646666666666668, 0.9748263888888888]\n",
      "Run # 1\n",
      "======\n",
      "setting: standardizev|nv7\n",
      "iter 0 : [0.8469079939668175, 0.7486666666666667, 0.019333333333333334, 0.8646666666666668, 0.9748263888888888]\n",
      "setting: standardizeD|nv1\n",
      "iter 1 : [0.8469079939668175, 0.7486666666666667, 0.019333333333333334, 0.8646666666666668, 0.9748263888888888]\n",
      "setting: standardizeU|nv2\n",
      "iter 2 : [0.8469079939668175, 0.7486666666666667, 0.019333333333333334, 0.8646666666666668, 0.9748263888888888]\n",
      "setting: standardizez|nv6\n",
      "iter 3 : [0.8469079939668175, 0.7486666666666667, 0.019333333333333334, 0.8646666666666668, 0.9748263888888888]\n",
      "Run # 2\n",
      "======\n",
      "setting: standardizeb|nv4\n",
      "iter 0 : [0.8469079939668175, 0.7486666666666667, 0.019333333333333334, 0.8646666666666668, 0.9748263888888888]\n",
      "setting: standardizeT|nv2\n",
      "iter 1 : [0.8469079939668175, 0.7486666666666667, 0.019333333333333334, 0.8646666666666668, 0.9748263888888888]\n",
      "setting: standardizez|nv6\n",
      "iter 2 : [0.8469079939668175, 0.7486666666666667, 0.019333333333333334, 0.8646666666666668, 0.9748263888888888]\n",
      "setting: standardizez|nv10\n",
      "iter 3 : [0.8469079939668175, 0.7486666666666667, 0.019333333333333334, 0.8646666666666668, 0.9748263888888888]\n"
     ]
    }
   ],
   "source": [
    "dodge.optimize()"
   ]
  },
  {
   "cell_type": "code",
   "execution_count": null,
   "metadata": {},
   "outputs": [],
   "source": []
  }
 ],
 "metadata": {
  "kernelspec": {
   "display_name": "Python 3",
   "language": "python",
   "name": "python3"
  },
  "language_info": {
   "codemirror_mode": {
    "name": "ipython",
    "version": 3
   },
   "file_extension": ".py",
   "mimetype": "text/x-python",
   "name": "python",
   "nbconvert_exporter": "python",
   "pygments_lexer": "ipython3",
   "version": "3.7.4"
  }
 },
 "nbformat": 4,
 "nbformat_minor": 2
}
