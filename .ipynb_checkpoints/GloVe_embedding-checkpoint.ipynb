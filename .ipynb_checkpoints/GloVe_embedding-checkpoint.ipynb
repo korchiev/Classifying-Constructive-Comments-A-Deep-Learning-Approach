{
 "cells": [
  {
   "cell_type": "markdown",
   "metadata": {
    "colab_type": "text",
    "id": "view-in-github"
   },
   "source": [
    "<a href=\"https://colab.research.google.com/github/mparvezrashid/ECE542-project-F/blob/main/GloVe_embedding.ipynb\" target=\"_parent\"><img src=\"https://colab.research.google.com/assets/colab-badge.svg\" alt=\"Open In Colab\"/></a>"
   ]
  },
  {
   "cell_type": "code",
   "execution_count": 2,
   "metadata": {
    "colab": {
     "base_uri": "https://localhost:8080/"
    },
    "id": "AbPJSlHOxdaX",
    "outputId": "8b7cfc9e-1e7d-47b0-bb57-2b2a3e003f63"
   },
   "outputs": [],
   "source": [
    "import numpy as np\n",
    "import os\n",
    "import pandas as pd\n",
    "from sklearn.feature_extraction.text import TfidfVectorizer\n",
    "import re\n",
    "from bs4 import BeautifulSoup\n",
    "import string\n",
    "from gensim.models import Word2Vec\n",
    "from sklearn.model_selection import train_test_split\n",
    "from sklearn.preprocessing import LabelEncoder\n",
    "from sklearn.ensemble import RandomForestClassifier\n",
    "from sklearn.metrics import classification_report\n",
    "from keras.preprocessing import sequence, text\n",
    "from keras.models import Sequential\n",
    "from keras.layers import Dense, Dropout, Embedding, LSTM, Bidirectional, BatchNormalization, Activation\n",
    "from sklearn.metrics import confusion_matrix\n",
    "from sklearn.metrics import classification_report\n",
    "from keras import metrics\n",
    "import matplotlib.pyplot as plt\n",
    "from collections import Counter\n",
    "from imblearn.over_sampling import SMOTE\n",
    "from imblearn.under_sampling import RandomUnderSampler\n",
    "from sklearn.feature_extraction.text import TfidfVectorizer"
   ]
  },
  {
   "cell_type": "code",
   "execution_count": 3,
   "metadata": {
    "id": "aYEufjFm10p9"
   },
   "outputs": [],
   "source": [
    "def plot_history(history):\n",
    "\t  # plot loss\n",
    "    plt.title('Loss')\n",
    "    plt.plot(history.history['loss'], color='blue', label='train')\n",
    "    plt.plot(history.history['val_loss'], color='red', label='test')\n",
    "    plt.ylabel('Loss')\n",
    "    plt.xlabel('Epoch')\n",
    "    plt.legend(['Train', 'Validation'])\n",
    "    plt.show()\n",
    "\n",
    "    plt.title('Accuracy')\n",
    "    plt.plot(history.history['accuracy'], color='blue', label='train')\n",
    "    plt.plot(history.history['val_accuracy'], color='red', label='test')\n",
    "    plt.ylabel('Accuracy')\n",
    "    plt.xlabel('Epoch')\n",
    "    plt.legend(['Train', 'Validation'])\n",
    "    plt.show()"
   ]
  },
  {
   "cell_type": "code",
   "execution_count": 4,
   "metadata": {
    "id": "7UAtc_MtxoLu"
   },
   "outputs": [],
   "source": [
    "df = pd.read_csv('C3_anonymized.csv', delimiter=',', usecols=['comment_text','constructive_binary'])"
   ]
  },
  {
   "cell_type": "code",
   "execution_count": 5,
   "metadata": {
    "id": "tKQZLCcCx-zU"
   },
   "outputs": [],
   "source": [
    "\n",
    "def text_clean(review):\n",
    "    rv_text = BeautifulSoup(review, 'html.parser').get_text()\n",
    "    rv_text = re.sub('[^a-zA-Z]', ' ', rv_text)\n",
    "    rv_text = rv_text.strip()\n",
    "    return rv_text"
   ]
  },
  {
   "cell_type": "code",
   "execution_count": 6,
   "metadata": {
    "colab": {
     "base_uri": "https://localhost:8080/"
    },
    "id": "lp4tnylCyNHq",
    "outputId": "8b4bfc67-5995-44f9-bb41-048eebcb533a"
   },
   "outputs": [
    {
     "name": "stderr",
     "output_type": "stream",
     "text": [
      "C:\\Users\\nodir\\Anaconda3\\lib\\site-packages\\bs4\\__init__.py:357: UserWarning: \"https://wikileaks.org/podesta-emails/emailid/7452#efmAAAAAv\" looks like a URL. Beautiful Soup is not an HTTP client. You should probably use an HTTP client like requests to get the document behind the URL, and feed that document to Beautiful Soup.\n",
      "  ' that document to Beautiful Soup.' % decoded_markup\n",
      "C:\\Users\\nodir\\Anaconda3\\lib\\site-packages\\bs4\\__init__.py:357: UserWarning: \"https://youtu.be/AlT3NRQqm-4\" looks like a URL. Beautiful Soup is not an HTTP client. You should probably use an HTTP client like requests to get the document behind the URL, and feed that document to Beautiful Soup.\n",
      "  ' that document to Beautiful Soup.' % decoded_markup\n"
     ]
    }
   ],
   "source": [
    "clean_comments = df.apply(lambda x: text_clean(x['comment_text']),axis=1)"
   ]
  },
  {
   "cell_type": "code",
   "execution_count": 7,
   "metadata": {
    "colab": {
     "base_uri": "https://localhost:8080/"
    },
    "id": "4TNAFRSBBHdY",
    "outputId": "f47b6314-b4e0-4d3b-ddc3-da6b477dc330"
   },
   "outputs": [
    {
     "name": "stdout",
     "output_type": "stream",
     "text": [
      "150\n"
     ]
    }
   ],
   "source": [
    "tk = text.Tokenizer(num_words=20000)\n",
    "tk.fit_on_texts(clean_comments.tolist())\n",
    "X = tk.texts_to_sequences(clean_comments)\n",
    "allX = sequence.pad_sequences(X, maxlen=150)\n",
    "ally = LabelEncoder().fit_transform(df['constructive_binary'])\n",
    "print(allX[1].size)"
   ]
  },
  {
   "cell_type": "code",
   "execution_count": 8,
   "metadata": {
    "colab": {
     "base_uri": "https://localhost:8080/",
     "height": 299
    },
    "id": "8MdgdS3oE65t",
    "outputId": "878e81cc-63f4-449e-b770-c31ac69347c1"
   },
   "outputs": [
    {
     "name": "stdout",
     "output_type": "stream",
     "text": [
      "Class=1, n=6516 (54.300%)\n",
      "Class=0, n=5484 (45.700%)\n"
     ]
    },
    {
     "data": {
      "image/png": "[encoded data removed]",
      "text/plain": [
       "<Figure size 432x288 with 1 Axes>"
      ]
     },
     "metadata": {
      "needs_background": "light"
     },
     "output_type": "display_data"
    }
   ],
   "source": [
    "\n",
    "counter = Counter(ally)\n",
    "\n",
    "for k,v in counter.items():\n",
    "\tper = v / len(ally) * 100\n",
    "\tprint('Class=%d, n=%d (%.3f%%)' % (k, v, per))\n",
    "\n",
    "plt.bar(counter.keys(), counter.values())\n",
    "plt.show()"
   ]
  },
  {
   "cell_type": "code",
   "execution_count": 9,
   "metadata": {
    "colab": {
     "base_uri": "https://localhost:8080/",
     "height": 353
    },
    "id": "iK3MpM01Fb6V",
    "outputId": "47b49934-3465-4ce7-eafa-e2118dbfc2e0"
   },
   "outputs": [
    {
     "name": "stderr",
     "output_type": "stream",
     "text": [
      "C:\\Users\\nodir\\Anaconda3\\lib\\site-packages\\sklearn\\utils\\deprecation.py:86: FutureWarning: Function safe_indexing is deprecated; safe_indexing is deprecated in version 0.22 and will be removed in version 0.24.\n",
      "  warnings.warn(msg, category=FutureWarning)\n"
     ]
    },
    {
     "name": "stdout",
     "output_type": "stream",
     "text": [
      "Class=0, n=6000 (50.000%)\n",
      "Class=1, n=6000 (50.000%)\n"
     ]
    },
    {
     "name": "stderr",
     "output_type": "stream",
     "text": [
      "C:\\Users\\nodir\\Anaconda3\\lib\\site-packages\\sklearn\\utils\\deprecation.py:86: FutureWarning: Function safe_indexing is deprecated; safe_indexing is deprecated in version 0.22 and will be removed in version 0.24.\n",
      "  warnings.warn(msg, category=FutureWarning)\n"
     ]
    },
    {
     "data": {
      "image/png": "[encoded data removed]",
      "text/plain": [
       "<Figure size 432x288 with 1 Axes>"
      ]
     },
     "metadata": {
      "needs_background": "light"
     },
     "output_type": "display_data"
    }
   ],
   "source": [
    "from imblearn.over_sampling import SMOTE\n",
    "from imblearn.under_sampling import RandomUnderSampler\n",
    "from sklearn.feature_extraction.text import TfidfVectorizer\n",
    "\n",
    "oversample = SMOTE(sampling_strategy={0:6000})\n",
    "#oversample = SMOTE()\n",
    "allX, ally = oversample.fit_resample(allX, ally)\n",
    "\n",
    "under = RandomUnderSampler({1:6000})\n",
    "allX, ally = under.fit_resample(allX, ally)\n",
    "# summarize distribution\n",
    "counter = Counter(ally)\n",
    "#print(counter)\n",
    "for k,v in counter.items():\n",
    "\tper = v / len(ally) * 100\n",
    "\tprint('Class=%d, n=%d (%.3f%%)' % (k, v, per))\n",
    "# plot the distribution\n",
    "plt.bar(counter.keys(), counter.values())\n",
    "plt.show()"
   ]
  },
  {
   "cell_type": "code",
   "execution_count": 10,
   "metadata": {},
   "outputs": [],
   "source": [
    "word_index = tk.word_index\n"
   ]
  },
  {
   "cell_type": "code",
   "execution_count": 11,
   "metadata": {
    "id": "ukDWphRCF0qq"
   },
   "outputs": [],
   "source": [
    "glv_embed_dict = {}\n",
    "glv = open('../glove.6B/glove.6B.300d.txt',encoding=\"utf8\")\n",
    "for line in glv:\n",
    "    v = line.split()\n",
    "    word = v[0]\n",
    "    try:\n",
    "        vector = np.asarray(v[1:], dtype='float32')\n",
    "    except:\n",
    "        pass\n",
    "    glv_embed_dict[word] = vector\n",
    "glv.close()"
   ]
  },
  {
   "cell_type": "code",
   "execution_count": 12,
   "metadata": {
    "colab": {
     "base_uri": "https://localhost:8080/"
    },
    "id": "eLJBu2B8CPpA",
    "outputId": "6669c927-ec2b-4cfc-e749-ed2256b2ff40"
   },
   "outputs": [
    {
     "name": "stdout",
     "output_type": "stream",
     "text": [
      "300\n"
     ]
    }
   ],
   "source": [
    "word_embd = np.zeros((len(word_index) + 1, 300))\n",
    "for word, i in word_index.items():\n",
    "    embed_vector = glv_embed_dict.get(word)\n",
    "    if embed_vector is not None:\n",
    "        word_embd[i] = embed_vector\n",
    "\n",
    "print(word_embd[1].size)        "
   ]
  },
  {
   "cell_type": "code",
   "execution_count": 13,
   "metadata": {
    "colab": {
     "base_uri": "https://localhost:8080/",
     "height": 69
    },
    "id": "Q0PA_5w-LxPv",
    "outputId": "fbbb32b9-5bf1-496c-cae7-f5c89e1a7a33"
   },
   "outputs": [
    {
     "data": {
      "text/plain": [
       "'X, X_test, y, y_test = train_test_split(allX, ally,stratify=ally,test_size=0.15)\\nX_train, X_val, y_train, y_val = train_test_split(X, y,stratify=y,test_size=0.15)\\n\\ny_train = LabelEncoder().fit_transform(y_train)\\ny_test = LabelEncoder().fit_transform(y_test)\\ny_val = LabelEncoder().fit_transform(y_val)'"
      ]
     },
     "execution_count": 13,
     "metadata": {},
     "output_type": "execute_result"
    }
   ],
   "source": [
    "X_train, X_test, y_train, y_test = train_test_split(allX, ally,stratify=ally,test_size=0.25)\n",
    "\n",
    "y_train = LabelEncoder().fit_transform(y_train)\n",
    "y_test = LabelEncoder().fit_transform(y_test)\n",
    "\n",
    "'''X, X_test, y, y_test = train_test_split(allX, ally,stratify=ally,test_size=0.15)\n",
    "X_train, X_val, y_train, y_val = train_test_split(X, y,stratify=y,test_size=0.15)\n",
    "\n",
    "y_train = LabelEncoder().fit_transform(y_train)\n",
    "y_test = LabelEncoder().fit_transform(y_test)\n",
    "y_val = LabelEncoder().fit_transform(y_val)'''\n",
    "\n"
   ]
  },
  {
   "cell_type": "code",
   "execution_count": 14,
   "metadata": {},
   "outputs": [
    {
     "data": {
      "text/plain": [
       "(9000, 150)"
      ]
     },
     "execution_count": 14,
     "metadata": {},
     "output_type": "execute_result"
    }
   ],
   "source": [
    "X_train.shape"
   ]
  },
  {
   "cell_type": "code",
   "execution_count": null,
   "metadata": {
    "id": "3NU7e6LFPLYG"
   },
   "outputs": [],
   "source": [
    "#With GloVe embedding\n",
    "bi_lstm = Sequential()\n",
    "bi_lstm.add(Embedding(len(word_index) + 1,300,weights=[word_embd],input_length=150,trainable=True))\n",
    "bi_lstm.add(Dropout(0.5))\n",
    "bi_lstm.add(Bidirectional(LSTM(150)))\n",
    "bi_lstm.add(Dropout(0.5))\n",
    "bi_lstm.add(Dense(1, activation='sigmoid'))\n",
    "bi_lstm.compile('adam', 'binary_crossentropy', metrics=['accuracy'])\n",
    "bi_lstm.summary()"
   ]
  },
  {
   "cell_type": "code",
   "execution_count": 15,
   "metadata": {},
   "outputs": [
    {
     "data": {
      "text/plain": [
       "((9000, 150), (9000,))"
      ]
     },
     "execution_count": 15,
     "metadata": {},
     "output_type": "execute_result"
    }
   ],
   "source": [
    "X_train.shape, y_train.shape"
   ]
  },
  {
   "cell_type": "code",
   "execution_count": null,
   "metadata": {},
   "outputs": [],
   "source": [
    "bi_lstm_history = bi_lstm.fit(X_train, y_train, batch_size=128, epochs=20, validation_split=0.1)"
   ]
  },
  {
   "cell_type": "code",
   "execution_count": null,
   "metadata": {
    "colab": {
     "base_uri": "https://localhost:8080/",
     "height": 573
    },
    "id": "1-KsT90fwje9",
    "outputId": "62fc1da8-7aa8-4c32-d320-f4eb239fa759"
   },
   "outputs": [],
   "source": [
    "plot_history(bi_lstm_history)"
   ]
  },
  {
   "cell_type": "code",
   "execution_count": null,
   "metadata": {
    "colab": {
     "base_uri": "https://localhost:8080/",
     "height": 726
    },
    "id": "A_VqvHaO8MA7",
    "outputId": "8f167abe-0e57-42f5-d558-7e61051f514f"
   },
   "outputs": [],
   "source": [
    "#bi_lstm_loss, bi_lstm_acc, bi_lstm_f1, bi_lstm_precision, bi_lstm_recall = bi_lstm.evaluate(X_test, y_test, batch_size=64)\n",
    "#print('Test accuracy for BiLSTM+Glove Model is:', bi_lstm_acc)\n",
    "y_pred_bi_lstm = bi_lstm.predict(X_test)\n",
    "y_pred_bi_lstm = (y_pred_bi_lstm > 0.5)\n",
    "print(classification_report(y_test, y_pred_bi_lstm))\n",
    "plot_history(bi_lstm_history)"
   ]
  },
  {
   "cell_type": "code",
   "execution_count": 16,
   "metadata": {
    "id": "nIZtIxCgv7K7",
    "scrolled": false
   },
   "outputs": [
    {
     "name": "stdout",
     "output_type": "stream",
     "text": [
      "Model: \"sequential\"\n",
      "_________________________________________________________________\n",
      "Layer (type)                 Output Shape              Param #   \n",
      "=================================================================\n",
      "embedding (Embedding)        (None, 150, 300)          8992800   \n",
      "_________________________________________________________________\n",
      "spatial_dropout1d (SpatialDr (None, 150, 300)          0         \n",
      "_________________________________________________________________\n",
      "bidirectional (Bidirectional (None, 300)               541200    \n",
      "_________________________________________________________________\n",
      "dropout (Dropout)            (None, 300)               0         \n",
      "_________________________________________________________________\n",
      "dense (Dense)                (None, 1)                 301       \n",
      "=================================================================\n",
      "Total params: 9,534,301\n",
      "Trainable params: 9,534,301\n",
      "Non-trainable params: 0\n",
      "_________________________________________________________________\n"
     ]
    }
   ],
   "source": [
    "from keras.layers import SpatialDropout1D\n",
    "from keras.optimizers import Adam\n",
    "os.environ[\"TF_FORCE_GPU_ALLOW_GROWTH\"]=\"true\"\n",
    "\n",
    "#Without GloVe embedding\n",
    "bi_lstm = Sequential()\n",
    "bi_lstm.add(Embedding(len(word_index) + 1,300,input_length=150,trainable=True))\n",
    "bi_lstm.add(SpatialDropout1D(0.2))\n",
    "bi_lstm.add(Bidirectional(LSTM(150, dropout=0.1)))\n",
    "bi_lstm.add(Dropout(0.2))\n",
    "bi_lstm.add(Dense(1, activation='sigmoid'))\n",
    "bi_lstm.compile(loss='binary_crossentropy', optimizer=Adam(0.001), metrics=['accuracy'])\n",
    "bi_lstm.summary()"
   ]
  },
  {
   "cell_type": "code",
   "execution_count": 17,
   "metadata": {
    "scrolled": true
   },
   "outputs": [
    {
     "name": "stdout",
     "output_type": "stream",
     "text": [
      "Epoch 1/20\n",
      "127/127 [==============================] - 94s 728ms/step - loss: 0.3439 - accuracy: 0.8206 - val_loss: 0.1735 - val_accuracy: 0.9333\n",
      "Epoch 2/20\n",
      "127/127 [==============================] - 95s 747ms/step - loss: 0.1542 - accuracy: 0.9412 - val_loss: 0.1764 - val_accuracy: 0.9344\n",
      "Epoch 3/20\n",
      "127/127 [==============================] - 95s 749ms/step - loss: 0.0789 - accuracy: 0.9756 - val_loss: 0.2133 - val_accuracy: 0.9178\n",
      "Epoch 4/20\n",
      "127/127 [==============================] - 102s 806ms/step - loss: 0.0506 - accuracy: 0.9867 - val_loss: 0.3003 - val_accuracy: 0.9156\n",
      "Epoch 5/20\n",
      "127/127 [==============================] - 104s 822ms/step - loss: 0.0461 - accuracy: 0.9873 - val_loss: 0.3870 - val_accuracy: 0.9022\n",
      "Epoch 6/20\n",
      "127/127 [==============================] - 105s 824ms/step - loss: 0.0115 - accuracy: 0.9978 - val_loss: 0.4098 - val_accuracy: 0.9100\n",
      "Epoch 7/20\n",
      "127/127 [==============================] - 104s 821ms/step - loss: 0.0103 - accuracy: 0.9981 - val_loss: 0.4436 - val_accuracy: 0.9111\n",
      "Epoch 8/20\n",
      "127/127 [==============================] - 106s 833ms/step - loss: 0.0106 - accuracy: 0.9960 - val_loss: 0.4201 - val_accuracy: 0.9100\n",
      "Epoch 9/20\n",
      "127/127 [==============================] - 106s 836ms/step - loss: 0.0051 - accuracy: 0.9984 - val_loss: 0.3865 - val_accuracy: 0.9178\n",
      "Epoch 10/20\n",
      "127/127 [==============================] - 106s 831ms/step - loss: 0.0132 - accuracy: 0.9961 - val_loss: 0.4766 - val_accuracy: 0.9100\n",
      "Epoch 11/20\n",
      "127/127 [==============================] - 102s 807ms/step - loss: 0.0041 - accuracy: 0.9987 - val_loss: 0.5533 - val_accuracy: 0.9133\n",
      "Epoch 12/20\n",
      "127/127 [==============================] - 101s 800ms/step - loss: 0.0042 - accuracy: 0.9987 - val_loss: 0.5497 - val_accuracy: 0.9189\n",
      "Epoch 13/20\n",
      "127/127 [==============================] - 103s 810ms/step - loss: 7.5340e-04 - accuracy: 0.9999 - val_loss: 0.5954 - val_accuracy: 0.9167\n",
      "Epoch 14/20\n",
      "127/127 [==============================] - 102s 801ms/step - loss: 4.9712e-04 - accuracy: 0.9999 - val_loss: 0.6206 - val_accuracy: 0.9133\n",
      "Epoch 15/20\n",
      "127/127 [==============================] - 102s 802ms/step - loss: 7.2031e-04 - accuracy: 0.9997 - val_loss: 0.6154 - val_accuracy: 0.9156\n",
      "Epoch 16/20\n",
      "127/127 [==============================] - 103s 812ms/step - loss: 2.6662e-04 - accuracy: 1.0000 - val_loss: 0.6766 - val_accuracy: 0.9167\n",
      "Epoch 17/20\n",
      "127/127 [==============================] - 103s 809ms/step - loss: 1.7891e-04 - accuracy: 1.0000 - val_loss: 0.6593 - val_accuracy: 0.9133\n",
      "Epoch 18/20\n",
      "127/127 [==============================] - 102s 804ms/step - loss: 8.5877e-05 - accuracy: 1.0000 - val_loss: 0.6513 - val_accuracy: 0.9156\n",
      "Epoch 19/20\n",
      "127/127 [==============================] - 103s 808ms/step - loss: 8.5216e-05 - accuracy: 1.0000 - val_loss: 0.6713 - val_accuracy: 0.9133\n",
      "Epoch 20/20\n",
      "127/127 [==============================] - 103s 809ms/step - loss: 5.5553e-05 - accuracy: 1.0000 - val_loss: 0.6805 - val_accuracy: 0.9156\n"
     ]
    }
   ],
   "source": [
    "bi_lstm_history = bi_lstm.fit(X_train, y_train, batch_size=64, epochs=20,\n",
    "                            validation_split=0.1)"
   ]
  },
  {
   "cell_type": "code",
   "execution_count": 18,
   "metadata": {
    "colab": {
     "base_uri": "https://localhost:8080/",
     "height": 726
    },
    "id": "n2L8Tj_uDhui",
    "outputId": "cb829128-d03c-4718-e8e7-9c25f1b557b0"
   },
   "outputs": [
    {
     "name": "stdout",
     "output_type": "stream",
     "text": [
      "              precision    recall  f1-score   support\n",
      "\n",
      "           0       0.90      0.91      0.91      1500\n",
      "           1       0.91      0.90      0.91      1500\n",
      "\n",
      "    accuracy                           0.91      3000\n",
      "   macro avg       0.91      0.91      0.91      3000\n",
      "weighted avg       0.91      0.91      0.91      3000\n",
      "\n"
     ]
    },
    {
     "data": {
      "image/png": "[encoded data removed]",
      "text/plain": [
       "<Figure size 432x288 with 1 Axes>"
      ]
     },
     "metadata": {
      "needs_background": "light"
     },
     "output_type": "display_data"
    },
    {
     "data": {
      "image/png": "[encoded data removed]",
      "text/plain": [
       "<Figure size 432x288 with 1 Axes>"
      ]
     },
     "metadata": {
      "needs_background": "light"
     },
     "output_type": "display_data"
    }
   ],
   "source": [
    "y_pred_bi_lstm = bi_lstm.predict(X_test)\n",
    "y_pred_bi_lstm = (y_pred_bi_lstm > 0.5)\n",
    "print(classification_report(y_test, y_pred_bi_lstm))\n",
    "plot_history(bi_lstm_history)"
   ]
  },
  {
   "cell_type": "code",
   "execution_count": null,
   "metadata": {
    "colab": {
     "base_uri": "https://localhost:8080/"
    },
    "id": "OUvGwCrqqUF-",
    "outputId": "dc776886-b6a5-4bb2-efdd-20289b8341da"
   },
   "outputs": [],
   "source": [
    "#Using Tf-IDF and RF\n",
    "tfidf=TfidfVectorizer(use_idf=True)\n",
    "tfidf_vect_data=tfidf.fit_transform(df['comment_text'])\n",
    "X_train, X_test, y_train, y_test = train_test_split(tfidf_vect_data, df['constructive_binary'],stratify=df['constructive_binary'],test_size=0.25)\n",
    "\n",
    "y_train = LabelEncoder().fit_transform(y_train)\n",
    "y_test = LabelEncoder().fit_transform(y_test)\n",
    "\n",
    "RF = RandomForestClassifier(n_estimators=100)\n",
    "\n",
    "clf = RF.fit(X_train, y_train)\n",
    "predict = clf.predict(X_test)\n",
    "print (classification_report(y_test, predict))"
   ]
  }
 ],
 "metadata": {
  "colab": {
   "authorship_tag": "ABX9TyOqDgKpfYOileq3wUM56G6n",
   "collapsed_sections": [],
   "include_colab_link": true,
   "name": "GloVe_embedding.ipynb",
   "provenance": []
  },
  "kernelspec": {
   "display_name": "Python 3",
   "language": "python",
   "name": "python3"
  },
  "language_info": {
   "codemirror_mode": {
    "name": "ipython",
    "version": 3
   },
   "file_extension": ".py",
   "mimetype": "text/x-python",
   "name": "python",
   "nbconvert_exporter": "python",
   "pygments_lexer": "ipython3",
   "version": "3.7.4"
  }
 },
 "nbformat": 4,
 "nbformat_minor": 1
}
