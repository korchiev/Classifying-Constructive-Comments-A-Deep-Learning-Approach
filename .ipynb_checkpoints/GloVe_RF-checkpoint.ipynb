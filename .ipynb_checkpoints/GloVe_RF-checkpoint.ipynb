{
 "cells": [
  {
   "cell_type": "markdown",
   "metadata": {
    "colab_type": "text",
    "id": "view-in-github"
   },
   "source": [
    "<a href=\"https://colab.research.google.com/github/mparvezrashid/ECE542-project-F/blob/main/GloVe_RF.ipynb\" target=\"_parent\"><img src=\"https://colab.research.google.com/assets/colab-badge.svg\" alt=\"Open In Colab\"/></a>"
   ]
  },
  {
   "cell_type": "code",
   "execution_count": null,
   "metadata": {
    "id": "bkWFMX7eQy8b"
   },
   "outputs": [],
   "source": [
    "import numpy as np\n",
    "import os\n",
    "import pandas as pd\n",
    "from sklearn.feature_extraction.text import TfidfVectorizer\n",
    "import spacy\n",
    "import re\n",
    "from bs4 import BeautifulSoup\n",
    "from spacy.lang.en import English\n",
    "import string\n",
    "from spacy.lang.en.stop_words import STOP_WORDS\n",
    "from gensim.models import Word2Vec\n",
    "from sklearn.model_selection import train_test_split\n",
    "from sklearn.preprocessing import LabelEncoder\n",
    "from sklearn.ensemble import RandomForestClassifier\n",
    "from sklearn.metrics import classification_report\n",
    "from keras.preprocessing import sequence, text\n",
    "from keras.models import Sequential\n",
    "from keras.layers import Dense, Dropout, Embedding, LSTM, Bidirectional, BatchNormalization, Activation\n",
    "from sklearn.metrics import confusion_matrix\n",
    "from sklearn.metrics import classification_report\n",
    "from keras import metrics\n",
    "import matplotlib.pyplot as plt\n",
    "from collections import Counter\n",
    "from imblearn.over_sampling import SMOTE\n",
    "from imblearn.under_sampling import RandomUnderSampler\n",
    "from sklearn.feature_extraction.text import TfidfVectorizer"
   ]
  },
  {
   "cell_type": "code",
   "execution_count": null,
   "metadata": {
    "id": "DhffbebfQ_eC"
   },
   "outputs": [],
   "source": [
    "def plot_history(history):\n",
    "\t  # plot loss\n",
    "    plt.title('Loss')\n",
    "    plt.plot(history.history['loss'], color='blue', label='train')\n",
    "    plt.plot(history.history['val_loss'], color='red', label='test')\n",
    "    plt.ylabel('Loss')\n",
    "    plt.xlabel('Epoch')\n",
    "    plt.legend(['Train', 'Validation'])\n",
    "    plt.show()\n",
    "\n",
    "    plt.title('Accuracy')\n",
    "    plt.plot(history.history['accuracy'], color='blue', label='train')\n",
    "    plt.plot(history.history['val_accuracy'], color='red', label='test')\n",
    "    plt.ylabel('Accuracy')\n",
    "    plt.xlabel('Epoch')\n",
    "    plt.legend(['Train', 'Validation'])\n",
    "    plt.show()"
   ]
  },
  {
   "cell_type": "code",
   "execution_count": null,
   "metadata": {
    "id": "mYSPPATNRJtS"
   },
   "outputs": [],
   "source": [
    "df = pd.read_csv('C3_anonymized.csv', delimiter=',', usecols=['comment_text','constructive_binary'])"
   ]
  },
  {
   "cell_type": "code",
   "execution_count": null,
   "metadata": {
    "id": "76mtHbPsRQgp"
   },
   "outputs": [],
   "source": [
    "\n",
    "def text_clean(review):\n",
    "    rv_text = BeautifulSoup(review, 'html.parser').get_text()\n",
    "    rv_text = re.sub('[^a-zA-Z]', ' ', rv_text)\n",
    "    rv_text = rv_text.strip()\n",
    "    return rv_text"
   ]
  },
  {
   "cell_type": "code",
   "execution_count": null,
   "metadata": {
    "colab": {
     "base_uri": "https://localhost:8080/"
    },
    "id": "CsfJ-mMfRSFN",
    "outputId": "b243d035-0f62-4700-c618-035a9d8e4312"
   },
   "outputs": [
    {
     "name": "stderr",
     "output_type": "stream",
     "text": [
      "/usr/local/lib/python3.7/dist-packages/bs4/__init__.py:336: UserWarning: \"https://wikileaks.org/podesta-emails/emailid/7452#efmAAAAAv\" looks like a URL. Beautiful Soup is not an HTTP client. You should probably use an HTTP client like requests to get the document behind the URL, and feed that document to Beautiful Soup.\n",
      "  ' that document to Beautiful Soup.' % decoded_markup\n",
      "/usr/local/lib/python3.7/dist-packages/bs4/__init__.py:336: UserWarning: \"https://youtu.be/AlT3NRQqm-4\" looks like a URL. Beautiful Soup is not an HTTP client. You should probably use an HTTP client like requests to get the document behind the URL, and feed that document to Beautiful Soup.\n",
      "  ' that document to Beautiful Soup.' % decoded_markup\n"
     ]
    }
   ],
   "source": [
    "clean_comments = df.apply(lambda x: text_clean(x['comment_text']),axis=1)"
   ]
  },
  {
   "cell_type": "code",
   "execution_count": null,
   "metadata": {
    "id": "4TNAFRSBBHdY"
   },
   "outputs": [],
   "source": [
    "tk = text.Tokenizer(num_words=20000)\n",
    "tk.fit_on_texts(clean_comments.tolist())\n",
    "X = tk.texts_to_sequences(clean_comments)\n",
    "allX = sequence.pad_sequences(X, maxlen=150)\n",
    "ally = LabelEncoder().fit_transform(df['constructive_binary'])"
   ]
  },
  {
   "cell_type": "code",
   "execution_count": null,
   "metadata": {
    "colab": {
     "base_uri": "https://localhost:8080/",
     "height": 299
    },
    "id": "51BPzdlhRg1_",
    "outputId": "971a94d5-d5ba-4a99-cac7-05cfdde7804b"
   },
   "outputs": [
    {
     "name": "stdout",
     "output_type": "stream",
     "text": [
      "Class=1, n=6516 (54.300%)\n",
      "Class=0, n=5484 (45.700%)\n"
     ]
    },
    {
     "data": {
      "image/png": "[encoded data removed]",
      "text/plain": [
       "<Figure size 432x288 with 1 Axes>"
      ]
     },
     "metadata": {
      "needs_background": "light",
      "tags": []
     },
     "output_type": "display_data"
    }
   ],
   "source": [
    "\n",
    "counter = Counter(ally)\n",
    "\n",
    "for k,v in counter.items():\n",
    "\tper = v / len(ally) * 100\n",
    "\tprint('Class=%d, n=%d (%.3f%%)' % (k, v, per))\n",
    "\n",
    "plt.bar(counter.keys(), counter.values())\n",
    "plt.show()"
   ]
  },
  {
   "cell_type": "code",
   "execution_count": null,
   "metadata": {
    "colab": {
     "base_uri": "https://localhost:8080/",
     "height": 387
    },
    "id": "OO3ctlcFR7K2",
    "outputId": "7c5a6254-1977-4e53-9801-75b0e6142d0d"
   },
   "outputs": [
    {
     "name": "stderr",
     "output_type": "stream",
     "text": [
      "/usr/local/lib/python3.7/dist-packages/sklearn/utils/deprecation.py:87: FutureWarning: Function safe_indexing is deprecated; safe_indexing is deprecated in version 0.22 and will be removed in version 0.24.\n",
      "  warnings.warn(msg, category=FutureWarning)\n"
     ]
    },
    {
     "name": "stdout",
     "output_type": "stream",
     "text": [
      "Class=0, n=6000 (50.000%)\n",
      "Class=1, n=6000 (50.000%)\n"
     ]
    },
    {
     "name": "stderr",
     "output_type": "stream",
     "text": [
      "/usr/local/lib/python3.7/dist-packages/sklearn/utils/deprecation.py:87: FutureWarning: Function safe_indexing is deprecated; safe_indexing is deprecated in version 0.22 and will be removed in version 0.24.\n",
      "  warnings.warn(msg, category=FutureWarning)\n"
     ]
    },
    {
     "data": {
      "image/png": "[encoded data removed]",
      "text/plain": [
       "<Figure size 432x288 with 1 Axes>"
      ]
     },
     "metadata": {
      "needs_background": "light",
      "tags": []
     },
     "output_type": "display_data"
    }
   ],
   "source": [
    "oversample = SMOTE(sampling_strategy={0:6000})\n",
    "#oversample = SMOTE()\n",
    "allX, ally = oversample.fit_resample(allX, ally)\n",
    "\n",
    "under = RandomUnderSampler({1:6000})\n",
    "allX, ally = under.fit_resample(allX, ally)\n",
    "# summarize distribution\n",
    "counter = Counter(ally)\n",
    "#print(counter)\n",
    "for k,v in counter.items():\n",
    "\tper = v / len(ally) * 100\n",
    "\tprint('Class=%d, n=%d (%.3f%%)' % (k, v, per))\n",
    "# plot the distribution\n",
    "plt.bar(counter.keys(), counter.values())\n",
    "plt.show()"
   ]
  },
  {
   "cell_type": "code",
   "execution_count": null,
   "metadata": {
    "id": "ljjWLEo3SAsM"
   },
   "outputs": [],
   "source": [
    "word_index = tk.word_index\n",
    "glv_embed_dict = {}\n",
    "glv = open('glove.6B.300d.txt',encoding=\"utf8\")\n",
    "for line in glv:\n",
    "    v = line.split()\n",
    "    word = v[0]\n",
    "    try:\n",
    "        vector = np.asarray(v[1:], dtype='float32')\n",
    "    except:\n",
    "        pass\n",
    "    glv_embed_dict[word] = vector\n",
    "glv.close()"
   ]
  },
  {
   "cell_type": "code",
   "execution_count": null,
   "metadata": {
    "id": "LtAbnwW_SEpV"
   },
   "outputs": [],
   "source": [
    "word_embd = np.zeros((len(word_index) + 1, 300))\n",
    "for word, i in word_index.items():\n",
    "    embed_vector = glv_embed_dict.get(word)\n",
    "    if embed_vector is not None:\n",
    "        word_embd[i] = embed_vector"
   ]
  },
  {
   "cell_type": "code",
   "execution_count": null,
   "metadata": {
    "id": "vV2MwztnSI-_"
   },
   "outputs": [],
   "source": [
    "X_train, X_test, y_train, y_test = train_test_split(allX, ally,stratify=ally,test_size=0.25)\n",
    "\n",
    "y_train = LabelEncoder().fit_transform(y_train)\n",
    "y_test = LabelEncoder().fit_transform(y_test)"
   ]
  },
  {
   "cell_type": "code",
   "execution_count": null,
   "metadata": {
    "id": "J_bnLEzsSSQM"
   },
   "outputs": [],
   "source": [
    "def get_matrix(comments):\n",
    "  matrix=np.zeros([9000,150,300], dtype=\"float32\")\n",
    "  for i,cmnt in enumerate(comments):\n",
    "    for j,wrd in enumerate(cmnt):\n",
    "      print(wrd)\n",
    "      matrix[i][j]=word_embd[wrd]\n",
    "  return matrix  "
   ]
  },
  {
   "cell_type": "code",
   "execution_count": null,
   "metadata": {
    "id": "_b-38anYSTOh"
   },
   "outputs": [],
   "source": [
    "X_tr= get_matrix(X_train)\n"
   ]
  },
  {
   "cell_type": "code",
   "execution_count": null,
   "metadata": {
    "id": "eG09_UGBZpKT"
   },
   "outputs": [],
   "source": [
    "X_tst = get_matrix(X_test)"
   ]
  },
  {
   "cell_type": "code",
   "execution_count": null,
   "metadata": {
    "colab": {
     "base_uri": "https://localhost:8080/"
    },
    "id": "2RT0qeBhSa1m",
    "outputId": "522981b8-6342-4c66-efd1-5ce894fc00c3"
   },
   "outputs": [
    {
     "name": "stdout",
     "output_type": "stream",
     "text": [
      "              precision    recall  f1-score   support\n",
      "\n",
      "           0       0.93      0.94      0.94      1500\n",
      "           1       0.94      0.93      0.94      1500\n",
      "\n",
      "    accuracy                           0.94      3000\n",
      "   macro avg       0.94      0.94      0.94      3000\n",
      "weighted avg       0.94      0.94      0.94      3000\n",
      "\n",
      "3000\n"
     ]
    }
   ],
   "source": [
    "RF2 = RandomForestClassifier(n_estimators=100)\n",
    "\n",
    "clf2 = RF2.fit(X_train, y_train)\n",
    "predict2 = clf2.predict(X_test)\n",
    "print (classification_report(y_test, predict2))\n",
    "print(len(predict2))"
   ]
  },
  {
   "cell_type": "code",
   "execution_count": null,
   "metadata": {
    "id": "OVT3sehSSb52"
   },
   "outputs": [],
   "source": []
  }
 ],
 "metadata": {
  "colab": {
   "authorship_tag": "ABX9TyO3z/JRXph+53bQXboZs21L",
   "include_colab_link": true,
   "name": "GloVe_RF.ipynb",
   "provenance": []
  },
  "kernelspec": {
   "display_name": "Python 3",
   "language": "python",
   "name": "python3"
  },
  "language_info": {
   "codemirror_mode": {
    "name": "ipython",
    "version": 3
   },
   "file_extension": ".py",
   "mimetype": "text/x-python",
   "name": "python",
   "nbconvert_exporter": "python",
   "pygments_lexer": "ipython3",
   "version": "3.7.3"
  }
 },
 "nbformat": 4,
 "nbformat_minor": 1
}
