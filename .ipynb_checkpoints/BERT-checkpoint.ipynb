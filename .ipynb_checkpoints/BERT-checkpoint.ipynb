{
 "cells": [
  {
   "cell_type": "markdown",
   "metadata": {
    "colab_type": "text",
    "id": "view-in-github"
   },
   "source": [
    "<a href=\"https://colab.research.google.com/github/mparvezrashid/ECE542-project-F/blob/main/BERT.ipynb\" target=\"_parent\"><img src=\"https://colab.research.google.com/assets/colab-badge.svg\" alt=\"Open In Colab\"/></a>"
   ]
  },
  {
   "cell_type": "code",
   "execution_count": null,
   "metadata": {
    "id": "ywKiPTZ-l4rt"
   },
   "outputs": [],
   "source": [
    "!pip install ktrain\n",
    "import ktrain\n",
    "from ktrain import text\n",
    "import numpy as np\n",
    "import os\n",
    "import pandas as pd\n",
    "from sklearn.feature_extraction.text import TfidfVectorizer\n",
    "import spacy\n",
    "import re\n",
    "from bs4 import BeautifulSoup\n",
    "from spacy.lang.en import English\n",
    "import string\n",
    "from spacy.lang.en.stop_words import STOP_WORDS\n",
    "from gensim.models import Word2Vec\n",
    "from sklearn.model_selection import train_test_split\n",
    "from sklearn.preprocessing import LabelEncoder\n",
    "from sklearn.ensemble import RandomForestClassifier\n",
    "from sklearn.metrics import classification_report"
   ]
  },
  {
   "cell_type": "code",
   "execution_count": null,
   "metadata": {
    "id": "2ZHlXF0-Q47u"
   },
   "outputs": [],
   "source": [
    "df = pd.read_csv('C3_anonymized.csv', delimiter=',', usecols=['comment_text','constructive_binary'])"
   ]
  },
  {
   "cell_type": "code",
   "execution_count": null,
   "metadata": {
    "id": "5KoVF2pQlgSx"
   },
   "outputs": [],
   "source": [
    "X, X_test, y, y_test = train_test_split(df['comment_text'], df['constructive_binary'],stratify=df['constructive_binary'],test_size=0.15)\n",
    "X_train, X_val, y_train, y_val = train_test_split(X, y,stratify=y,test_size=0.15)\n",
    "\n",
    "y_train = LabelEncoder().fit_transform(y_train)\n",
    "y_test = LabelEncoder().fit_transform(y_test)\n",
    "y_val = LabelEncoder().fit_transform(y_val)"
   ]
  },
  {
   "cell_type": "code",
   "execution_count": null,
   "metadata": {
    "id": "11mr2eQhu7JR"
   },
   "outputs": [],
   "source": [
    "X_train = np.asarray(X_train)\n",
    "X_val = np.asarray(X_val)\n",
    "X_test = np.asarray(X_test)"
   ]
  },
  {
   "cell_type": "code",
   "execution_count": null,
   "metadata": {
    "id": "bEsWg8qGuo9q"
   },
   "outputs": [],
   "source": [
    "transform = text.Transformer('bert-base-uncased', maxlen=150, class_names=[0,1])\n",
    "train_final = transform.preprocess_train(X_train, y_train)\n",
    "val_final = transform.preprocess_test(X_val, y_val)\n",
    "model = transform.get_classifier()\n",
    "lrnr = ktrain.get_learner(model, train_data=train_final, val_data=val_final, batch_size=32)"
   ]
  },
  {
   "cell_type": "code",
   "execution_count": null,
   "metadata": {
    "id": "KWrQ2Mtqwm5P"
   },
   "outputs": [],
   "source": [
    "lrnr.fit_onecycle(1e-3, 4)"
   ]
  },
  {
   "cell_type": "code",
   "execution_count": null,
   "metadata": {
    "id": "buSceVdI2lXk"
   },
   "outputs": [],
   "source": [
    "prdtct = ktrain.get_predictor(lrnr.model, preproc=transform)\n",
    "y_pred = prdct.predict(X_test)\n",
    "print(\"Accuracy:\", accuracy_score(y_test, y_pred))\n",
    "print(\"F1 Score:\", f1_score(y_test, y_pred, average='weighted'))\n",
    "print(classification_report(y_test, y_pred, target_names=['Not constructive', 'Constructive']))\n"
   ]
  }
 ],
 "metadata": {
  "colab": {
   "authorship_tag": "ABX9TyN/qN6YdArC9csCaWsqVRVK",
   "collapsed_sections": [],
   "include_colab_link": true,
   "name": "Untitled4.ipynb",
   "provenance": []
  },
  "kernelspec": {
   "display_name": "Python 3",
   "language": "python",
   "name": "python3"
  },
  "language_info": {
   "codemirror_mode": {
    "name": "ipython",
    "version": 3
   },
   "file_extension": ".py",
   "mimetype": "text/x-python",
   "name": "python",
   "nbconvert_exporter": "python",
   "pygments_lexer": "ipython3",
   "version": "3.7.3"
  }
 },
 "nbformat": 4,
 "nbformat_minor": 1
}
